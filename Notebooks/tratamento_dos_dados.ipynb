{
 "cells": [
  {
   "cell_type": "code",
   "execution_count": 61,
   "metadata": {
    "id": "J_HDLXaRZr0C"
   },
   "outputs": [],
   "source": [
    "import matplotlib.pyplot as plt\n",
    "import pandas as pd\n",
    "import seaborn as sns"
   ]
  },
  {
   "cell_type": "code",
   "execution_count": 62,
   "metadata": {
    "id": "eqnY5zfsaC15"
   },
   "outputs": [],
   "source": [
    "## Carregando os dados originais\n",
    "df = pd.read_excel('Dados_originais/dados_originais.xlsx')"
   ]
  },
  {
   "cell_type": "code",
   "execution_count": 63,
   "metadata": {
    "id": "rruopAkOi5ww"
   },
   "outputs": [],
   "source": [
    "## Espaço atual disponível para armazenamento em m³\n",
    "espaco_disponivel = 20 * 20 * 2\n",
    "espaco_disponivel = espaco_disponivel * 0.7 # Calculamos que apenas 70% é de fato aproveitado\n",
    "## Potencial de vendas médio\n",
    "indicado_potencial_de_vendas = 1.8\n",
    "## Meta de vendas mensal\n",
    "meta_de_vendas = 17_000_000"
   ]
  },
  {
   "cell_type": "code",
   "execution_count": 64,
   "metadata": {
    "id": "8867wXRsI5Gn"
   },
   "outputs": [],
   "source": [
    "## Mantendo apenas as colunas necessárias\n",
    "df = df[['produto.codigo',\n",
    "         'produto.descricao',\n",
    "         'produto.precoCusto',\n",
    "         'produto.marca',\n",
    "         'produto.grupoProduto',\n",
    "         'produto.pesoBruto',\n",
    "         'produto.estoqueMinimo',\n",
    "         'produto.estoqueMaximo',\n",
    "         'produto.larguraProduto',\n",
    "         'produto.alturaProduto',\n",
    "         'produto.profundidadeProduto',\n",
    "         'produto.estoqueAtual']].copy()\n",
    "\n",
    "## Renomenado as colunas para melhor uso no POWER BI\n",
    "df = df.rename(columns={'produto.codigo': 'codigo',\n",
    "                        'produto.descricao': 'descricao',\n",
    "                        'produto.precoCusto': 'preco_custo',\n",
    "                        'produto.marca': 'marca',\n",
    "                        'produto.grupoProduto': 'categoria',\n",
    "                        'produto.pesoBruto': 'peso_bruto_kg',\n",
    "                        'produto.estoqueMinimo': 'estoque_minimo',\n",
    "                        'produto.estoqueMaximo': 'estoque_maximo',\n",
    "                        'produto.larguraProduto': 'largura_cm',\n",
    "                        'produto.alturaProduto': 'altura_cm',\n",
    "                        'produto.profundidadeProduto': 'profundidade_cm',\n",
    "                        'produto.estoqueAtual': 'estoque_atual'})"
   ]
  },
  {
   "cell_type": "code",
   "execution_count": 65,
   "metadata": {
    "id": "27xDpfz8kj4T"
   },
   "outputs": [],
   "source": [
    "## Calculando o valor total de estoque por produto\n",
    "df['preco_custo'] = df['preco_custo'].round(2)\n",
    "df['custo_total'] = df['estoque_atual'] * df['preco_custo']\n",
    "## Incluindo o indicador potencial de vendas, vou precisar desse valor no POWER BI\n",
    "df['indicador_potencial'] = indicado_potencial_de_vendas\n",
    "## Incluindo a meta de vendas mensal\n",
    "df['meta_de_vendas'] = meta_de_vendas"
   ]
  },
  {
   "cell_type": "code",
   "execution_count": 66,
   "metadata": {
    "id": "XZMPNMiJkNV6"
   },
   "outputs": [],
   "source": [
    "# NOVAS COLUNAS PARA SITUAÇÃO DE ESTOQUE\n",
    "\n",
    "## Substituindo valores negativos por 0\n",
    "df['estoque_atual'] = df['estoque_atual'].clip(lower=0)\n",
    "## Nova coluna para mapear a situação do estoque\n",
    "df['nivel_estoque'] = ''\n",
    "## 1-Condição de estoque zerado\n",
    "df.loc[df['estoque_atual'] == 0, 'nivel_estoque'] = 'ZERADO'\n",
    "## 2-Condição de estoque abaixo do ideal\n",
    "df.loc[(df['estoque_atual'] < df['estoque_minimo']) &\n",
    "       (df['estoque_atual'] != 0), 'nivel_estoque'] = 'ABAIXO'\n",
    "## 3-Condição de estoque acima do ideal\n",
    "df.loc[df['estoque_atual'] > df['estoque_maximo'], 'nivel_estoque'] = 'ACIMA'\n",
    "## 4-Condição de estoque ideal\n",
    "df.loc[(df['estoque_atual'] >= df['estoque_minimo']) &\n",
    "       (df['estoque_atual'] <= df['estoque_maximo']) &\n",
    "       (df['estoque_atual'] != 0), 'nivel_estoque'] = 'IDEAL'"
   ]
  },
  {
   "cell_type": "code",
   "execution_count": 67,
   "metadata": {
    "id": "9GXI0O0D7Axa"
   },
   "outputs": [],
   "source": [
    "# COLUNAS PARA CALCULO DO ESPAÇO DISPONÍVEL E OCUPADO\n",
    "\n",
    "## Calculando o volume unitário de cada produto em cm³\n",
    "df['volume_cm3'] = df['altura_cm'] * df['largura_cm'] * df['profundidade_cm']\n",
    "## Excluindo as linhas onde o volume é igual a zero\n",
    "df = df.loc[df['volume_cm3'] != 0]\n",
    "## Calculando o volume total ocupado por cada produto em metros cúbicos (1 m³ = 1.000.000 cm³)\n",
    "volume_total_ocupado_m3 = (df['volume_cm3'] * df['estoque_atual']) / 1_000_000\n",
    "## Criando colunas percentuais do espaço total e ocupado\n",
    "df['espaco_disponivel'] = espaco_disponivel / espaco_disponivel\n",
    "df['espaco_ocupado'] = volume_total_ocupado_m3 / espaco_disponivel"
   ]
  },
  {
   "cell_type": "code",
   "execution_count": 68,
   "metadata": {
    "colab": {
     "base_uri": "https://localhost:8080/",
     "height": 411
    },
    "id": "g1mw4BBIb4Qg",
    "outputId": "cd111ca3-9fc7-4813-9bd4-f2acfc5431e9"
   },
   "outputs": [
    {
     "data": {
      "image/png": "[encoded data removed]",
      "text/plain": [
       "<Figure size 640x480 with 1 Axes>"
      ]
     },
     "metadata": {},
     "output_type": "display_data"
    }
   ],
   "source": [
    "## Calculando o custo por m³ por produto\n",
    "valor_por_metro_cubico = df['preco_custo'] / (df['volume_cm3'] / 1_000_000)\n",
    "## Verificando a distribuição dos dados\n",
    "sns.boxplot(valor_por_metro_cubico)\n",
    "plt.show()"
   ]
  },
  {
   "cell_type": "code",
   "execution_count": 69,
   "metadata": {
    "id": "37zvO69LJHru"
   },
   "outputs": [],
   "source": [
    "## Calculando a mediana do custo por m³\n",
    "mediana_m3 = valor_por_metro_cubico.median() # Foi escolhida a mediana por haver muitos outliers\n",
    "## Nova coluna com o potencial de vendas do espaço total disponível\n",
    "df['potencial_do_espaco_disponivel'] = espaco_disponivel * mediana_m3 * indicado_potencial_de_vendas\n",
    "df['potencial_do_espaco_disponivel'] = df['potencial_do_espaco_disponivel'].round(2)\n",
    "## Somando o volume total para obter a metragem cúbica total ocupada pelos produtos\n",
    "espaco_ocupado = round(volume_total_ocupado_m3.sum())\n",
    "## Nova coluna com o potencial de vendas do espaço atualmente ocupado\n",
    "df['potencial_do_espaco_ocupado'] =  espaco_ocupado * mediana_m3 * indicado_potencial_de_vendas\n",
    "df['potencial_do_espaco_ocupado'] = df['potencial_do_espaco_ocupado'].round(2)"
   ]
  },
  {
   "cell_type": "code",
   "execution_count": 70,
   "metadata": {
    "id": "XVKatusXiptL"
   },
   "outputs": [],
   "source": [
    "## Salvando os dados em Excel\n",
    "df.to_excel('Dados_limpos/dados_limpos.xlsx', index=False)"
   ]
  }
 ],
 "metadata": {
  "colab": {
   "provenance": []
  },
  "kernelspec": {
   "display_name": "Python 3 (ipykernel)",
   "language": "python",
   "name": "python3"
  },
  "language_info": {
   "codemirror_mode": {
    "name": "ipython",
    "version": 3
   },
   "file_extension": ".py",
   "mimetype": "text/x-python",
   "name": "python",
   "nbconvert_exporter": "python",
   "pygments_lexer": "ipython3",
   "version": "3.9.13"
  }
 },
 "nbformat": 4,
 "nbformat_minor": 1
}
